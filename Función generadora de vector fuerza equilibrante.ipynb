{
 "cells": [
  {
   "cell_type": "code",
   "execution_count": 4,
   "id": "eb67cfb9-7735-448c-a5e9-5ec994103198",
   "metadata": {},
   "outputs": [],
   "source": [
    "from sympy import init_printing\n",
    "init_printing(use_latex=True)\n",
    "from sympy import *\n",
    "import numpy as np\n",
    "import math as m"
   ]
  },
  {
   "cell_type": "code",
   "execution_count": 5,
   "id": "34404d0b-d561-4713-8007-1c601fecc3b8",
   "metadata": {},
   "outputs": [],
   "source": [
    "g=9.8"
   ]
  },
  {
   "cell_type": "code",
   "execution_count": 6,
   "id": "527403cf-bb80-49f1-8bb1-5ad849c96f33",
   "metadata": {},
   "outputs": [],
   "source": [
    "x=symbols('x')"
   ]
  },
  {
   "cell_type": "code",
   "execution_count": 7,
   "id": "95ffb7ba-7cd7-4545-a4f0-37726caf50e0",
   "metadata": {},
   "outputs": [],
   "source": [
    "def f_eq_ang(x,y):\n",
    "    if (x>0 and y>0):\n",
    "        rad=atan(y/x)\n",
    "    elif (x<0 and y>0):\n",
    "        rad=atan(y/x)-pi\n",
    "    elif (x<0 and y<0):\n",
    "        rad=atan(y/x)+pi\n",
    "    elif (x>0 and y<0):\n",
    "        rad=atan(y/x)\n",
    "    return m.degrees(rad)"
   ]
  },
  {
   "cell_type": "code",
   "execution_count": 8,
   "id": "d1aa6fe9-ced9-47ba-bc99-1ea9e2741d8d",
   "metadata": {},
   "outputs": [],
   "source": [
    "def f_eq(m1,m2,a1,a2):\n",
    "    f1Mag=g*(m1)\n",
    "    f1Dir=m.radians(a1)\n",
    "    f2Mag=g*(m2)\n",
    "    f2Dir=m.radians(a2)\n",
    "    fRes=Matrix([f1Mag*cos(f1Dir)+f2Mag*cos(f2Dir),f1Mag*sin(f1Dir)+f2Mag*sin(f2Dir)])\n",
    "    F_eq_x=solve(fRes[0]+x,x)\n",
    "    F_eq_y=solve(fRes[1]+x,x)\n",
    "    F_eq=Matrix([F_eq_x,F_eq_y])\n",
    "    f_eq_Mag=sqrt((F_eq_x[0])**2+(F_eq_y[0])**2)\n",
    "    f_eq_Dir=f_eq_ang(F_eq_x[0],F_eq_y[0])\n",
    "    print('Fuerza equilibradora \\nMagnitud (N): ',\n",
    "          '{:.3f}'.format(f_eq_Mag), '\\nMasa que produce esa fuerza (kg):','{:.3f}'.format(f_eq_Mag/g),'\\nDirección (º):','{:.3f}'.format(f_eq_Dir))\n",
    "    return"
   ]
  },
  {
   "cell_type": "code",
   "execution_count": 9,
   "id": "0c54c785-b60b-4fda-9786-06969752147a",
   "metadata": {},
   "outputs": [
    {
     "name": "stdout",
     "output_type": "stream",
     "text": [
      "Fuerza equilibradora \n",
      "Magnitud (N):  1.088 \n",
      "Masa que produce esa fuerza (kg): 0.111 \n",
      "Dirección (º): 217.500\n"
     ]
    }
   ],
   "source": [
    "f_eq(0.070,0.070,0,75)"
   ]
  },
  {
   "cell_type": "code",
   "execution_count": 10,
   "id": "415feda3-cec0-4cff-958d-75dbc58a2ccb",
   "metadata": {},
   "outputs": [
    {
     "name": "stdout",
     "output_type": "stream",
     "text": [
      "Fuerza equilibradora \n",
      "Magnitud (N):  1.037 \n",
      "Masa que produce esa fuerza (kg): 0.106 \n",
      "Dirección (º): 229.107\n"
     ]
    }
   ],
   "source": [
    "f_eq(0.080,0.040,30,90)"
   ]
  },
  {
   "cell_type": "code",
   "execution_count": 11,
   "id": "1dcdad71-e6ed-4503-8739-353782c2c520",
   "metadata": {},
   "outputs": [
    {
     "name": "stdout",
     "output_type": "stream",
     "text": [
      "Fuerza equilibradora \n",
      "Magnitud (N):  0.354 \n",
      "Masa que produce esa fuerza (kg): 0.036 \n",
      "Dirección (º): -59.643\n"
     ]
    }
   ],
   "source": [
    "f_eq(0.055,0.071,20,170)"
   ]
  },
  {
   "cell_type": "code",
   "execution_count": 12,
   "id": "d646f5f3-37e4-4d60-ad85-ff2a024a630e",
   "metadata": {},
   "outputs": [
    {
     "name": "stdout",
     "output_type": "stream",
     "text": [
      "Fuerza equilibradora \n",
      "Magnitud (N):  0.833 \n",
      "Masa que produce esa fuerza (kg): 0.085 \n",
      "Dirección (º): 43.605\n"
     ]
    }
   ],
   "source": [
    "f_eq(0.048,0.040,210,240)"
   ]
  },
  {
   "cell_type": "code",
   "execution_count": 15,
   "id": "c479b84f-09ca-4516-9cd4-6950168ce0eb",
   "metadata": {},
   "outputs": [
    {
     "name": "stdout",
     "output_type": "stream",
     "text": [
      "Fuerza equilibradora \n",
      "Magnitud (N):  0.695 \n",
      "Masa que produce esa fuerza (kg): 0.071 \n",
      "Dirección (º): 205.363\n"
     ]
    }
   ],
   "source": [
    "f_eq(0.110,0.090,80,300)"
   ]
  }
 ],
 "metadata": {
  "kernelspec": {
   "display_name": "Python 3 (ipykernel)",
   "language": "python",
   "name": "python3"
  },
  "language_info": {
   "codemirror_mode": {
    "name": "ipython",
    "version": 3
   },
   "file_extension": ".py",
   "mimetype": "text/x-python",
   "name": "python",
   "nbconvert_exporter": "python",
   "pygments_lexer": "ipython3",
   "version": "3.11.7"
  }
 },
 "nbformat": 4,
 "nbformat_minor": 5
}
